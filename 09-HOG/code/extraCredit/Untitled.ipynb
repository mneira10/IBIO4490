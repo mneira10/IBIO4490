{
 "cells": [
  {
   "cell_type": "code",
   "execution_count": 1,
   "metadata": {},
   "outputs": [
    {
     "name": "stderr",
     "output_type": "stream",
     "text": [
      "100%|██████████| 130/130 [04:37<00:00,  2.39s/it]"
     ]
    },
    {
     "name": "stdout",
     "output_type": "stream",
     "text": [
      "[279. 250. 237. 235. 224. 217. 209. 191. 189. 174.] [601. 404. 310. 267. 246. 226. 214. 216. 209. 186.] [232. 261. 274. 276. 287. 294. 302. 320. 322. 337.]\n",
      "[0.3170454545454545, 0.382262996941896, 0.43327239488117003, 0.4681274900398406, 0.4765957446808511, 0.4898419864559819, 0.4940898345153664, 0.4692874692874693, 0.4748743718592965, 0.48333333333333334]\n",
      "[0.5459882583170255, 0.4892367906066536, 0.4637964774951076, 0.4598825831702544, 0.4383561643835616, 0.4246575342465753, 0.4090019569471624, 0.37377690802348335, 0.3698630136986301, 0.3405088062622309]\n"
     ]
    },
    {
     "name": "stderr",
     "output_type": "stream",
     "text": [
      "\n"
     ]
    }
   ],
   "source": [
    "import numpy as np\n",
    "import cv2 as cv\n",
    "from os.path import isfile, join\n",
    "from os import listdir\n",
    "import eval \n",
    "import tqdm\n",
    "import matplotlib.pyplot as plt \n",
    "\n",
    "def getImage(path):\n",
    "  return cv.imread(path)\n",
    "\n",
    "def violaJones(img,minOverlaps,facesOnly = False):\n",
    "  face_cascade = cv.CascadeClassifier('haarcascade_frontalface_default.xml')\n",
    "  gray = cv.cvtColor(img, cv.COLOR_BGR2GRAY)\n",
    "\n",
    "  faces = face_cascade.detectMultiScale(gray, 1.05, int(minOverlaps))\n",
    "  for (x,y,w,h) in faces:\n",
    "      cv.rectangle(img,(x,y),(x+w,y+h),(255,0,0),2)\n",
    "  if facesOnly:\n",
    "    return faces\n",
    "  return img,faces\n",
    "\n",
    "def getTestIm(imName,img, facesOnly = False):\n",
    "  annotationsPath = '../LabHOG/data/test_scenes/ground_truth_bboxes.txt'\n",
    "  with open(annotationsPath, \"r\") as f:\n",
    "    lines = f.readlines()\n",
    "  faces = list(filter(lambda x: imName == x.split(' ')[0], lines))\n",
    "  for face in faces:\n",
    "    x,y,w,h = [int(x) for x in face.split(' ')[1:]]\n",
    "    cv.rectangle(img,(x,y),(w,h),(0,255,0),2)\n",
    "  if facesOnly:\n",
    "    return faces\n",
    "  return img,faces\n",
    "\n",
    "def evaluate(faceAnnotations,facePredictions):\n",
    "  alreadyPredicted = np.zeros(len(faceAnnotations))\n",
    "\n",
    "  for anot in faceAnnotations:\n",
    "    maxPred = getMaxPred(anot,facePredictions)\n",
    "\n",
    "    \n",
    "\n",
    "\n",
    "\n",
    "def showImage(img):\n",
    "  cv.imshow('img',img)\n",
    "  cv.waitKey(0)\n",
    "  cv.destroyAllWindows()\n",
    "\n",
    "\n",
    "testImPath = '../LabHOG/data/test_scenes/test_jpg/'\n",
    "testImages = [f for f in listdir(testImPath) if isfile(join(testImPath, f))]\n",
    "\n",
    "thresholds = np.linspace(1,11,10)\n",
    "TP = np.zeros(len(thresholds)) \n",
    "FP = np.zeros(len(thresholds)) \n",
    "FN = np.zeros(len(thresholds))  \n",
    "\n",
    "# print(testImages[0])\n",
    "for i,im in tqdm.tqdm(enumerate(testImages),total=len(testImages)):\n",
    "\n",
    "  img,annotFaces = getTestIm(im,getImage(testImPath + im))\n",
    "  # showImage(img)\n",
    "  for t,thresh in enumerate(thresholds):\n",
    "    img,predFaces = violaJones(img,thresh)\n",
    "    TPi,FPi,FNi = eval.evalImage(annotFaces,predFaces,0.3)\n",
    "    TP[t]+=TPi\n",
    "    FP[t]+=FPi\n",
    "    FN[t]+=FNi\n",
    "  # break\n",
    "print(TP,FP,FN)\n",
    "p = []\n",
    "r = []\n",
    "for t,thresh in enumerate(thresholds):\n",
    "  precision, recall = eval.PR(TP[t],FP[t],FN[t])\n",
    "  p.append(precision)\n",
    "  r.append(recall)\n",
    "  # break\n",
    "print(p)\n",
    "print(r)"
   ]
  },
  {
   "cell_type": "code",
   "execution_count": 4,
   "metadata": {},
   "outputs": [
    {
     "data": {
      "image/png": "[encoded data removed]",
      "text/plain": [
       "<Figure size 432x288 with 1 Axes>"
      ]
     },
     "metadata": {},
     "output_type": "display_data"
    }
   ],
   "source": [
    "plt.plot(r,p,label='Viola Jones Algorithm')\n",
    "\n",
    "plt.xlabel('Recall')\n",
    "plt.ylabel('Precision')\n",
    "plt.title('PR cuve for the Viola-Jones Alg.')\n",
    "# plt.show()\n",
    "plt.xlim((0,1))\n",
    "plt.ylim((0,1))\n",
    "plt.legend()\n",
    "plt.savefig('violaJonesPR.png')"
   ]
  },
  {
   "cell_type": "code",
   "execution_count": null,
   "metadata": {},
   "outputs": [],
   "source": []
  }
 ],
 "metadata": {
  "kernelspec": {
   "display_name": "Python 3",
   "language": "python",
   "name": "python3"
  },
  "language_info": {
   "codemirror_mode": {
    "name": "ipython",
    "version": 3
   },
   "file_extension": ".py",
   "mimetype": "text/x-python",
   "name": "python",
   "nbconvert_exporter": "python",
   "pygments_lexer": "ipython3",
   "version": "3.6.8"
  }
 },
 "nbformat": 4,
 "nbformat_minor": 2
}
